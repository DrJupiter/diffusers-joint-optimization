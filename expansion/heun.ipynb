{
 "cells": [
  {
   "cell_type": "code",
   "execution_count": 1,
   "metadata": {},
   "outputs": [],
   "source": [
    "import sympy as sp"
   ]
  },
  {
   "cell_type": "markdown",
   "metadata": {},
   "source": [
    "$$h = t_{i+1}-t_i ~~,~~ \\alpha=1$$\n",
    "\n",
    "$$f(x_i,t_i) = dx$$\n",
    "\n",
    "</br>\n",
    "\n",
    "$$d_i = f(x_i,t_i)$$\n",
    "\n",
    "$$x_{i+1} = x_i + h \\left[ \\left( 1-\\cfrac{1}{2 \\alpha} \\right) d_i  ~~ +~~ \\cfrac{1}{2 \\alpha} f(~x_i + \\alpha h d_i~~, ~~t_i + \\alpha h) \\right]$$\n",
    "\n",
    "</br>\n",
    "\n",
    "Or equivalently\n",
    "\n",
    "</br>\n",
    "\n",
    "$$\\hat x = x_i + \\alpha h d_i$$\n",
    "$$x_{i+1} = x_i + h \\left[ \\left( 1-\\cfrac{1}{2 \\alpha} \\right) f(x_i,t_i)  ~~ +~~ \\cfrac{1}{2 \\alpha} f(~ \\hat x~~, ~~t_i + \\alpha h) \\right]$$"
   ]
  },
  {
   "cell_type": "code",
   "execution_count": null,
   "metadata": {},
   "outputs": [],
   "source": []
  }
 ],
 "metadata": {
  "kernelspec": {
   "display_name": "diffusionSDE",
   "language": "python",
   "name": "python3"
  },
  "language_info": {
   "codemirror_mode": {
    "name": "ipython",
    "version": 3
   },
   "file_extension": ".py",
   "mimetype": "text/x-python",
   "name": "python",
   "nbconvert_exporter": "python",
   "pygments_lexer": "ipython3",
   "version": "3.9.2"
  }
 },
 "nbformat": 4,
 "nbformat_minor": 2
}
